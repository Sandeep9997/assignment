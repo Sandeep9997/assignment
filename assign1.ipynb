{
 "cells": [
  {
   "cell_type": "code",
   "execution_count": 1,
   "metadata": {
    "collapsed": false
   },
   "outputs": [
    {
     "name": "stdout",
     "output_type": "stream",
     "text": [
      "[8, 9, 10, 11, 12]\n"
     ]
    }
   ],
   "source": [
    "#que 1\n",
    "#slicing from the front (positive)\n",
    "\n",
    "a=[1,2,3,4,5,6,7,8,9,10,11,12,13,14,15,16]\n",
    "print(a[7:12])"
   ]
  },
  {
   "cell_type": "code",
   "execution_count": 2,
   "metadata": {
    "collapsed": false
   },
   "outputs": [
    {
     "name": "stdout",
     "output_type": "stream",
     "text": [
      "[8, 9, 10, 11, 12]\n"
     ]
    }
   ],
   "source": [
    "#que 1\n",
    "#slicing from the back (negative)\n",
    "\n",
    "a=[1,2,3,4,5,6,7,8,9,10,11,12,13,14,15,16]\n",
    "print(a[-9:-4])"
   ]
  },
  {
   "cell_type": "code",
   "execution_count": 3,
   "metadata": {
    "collapsed": false
   },
   "outputs": [
    {
     "name": "stdout",
     "output_type": "stream",
     "text": [
      "[2, 4, 6, 8, 10, 12, 14, 16]\n"
     ]
    }
   ],
   "source": [
    " #que 2\n",
    "# even number\n",
    "a=[1,2,3,4,5,6,7,8,9,10,11,12,13,14,15,16]\n",
    "print (a[1:17:2])          "
   ]
  },
  {
   "cell_type": "code",
   "execution_count": 4,
   "metadata": {
    "collapsed": false
   },
   "outputs": [
    {
     "name": "stdout",
     "output_type": "stream",
     "text": [
      "[1, 5, 9, 13]\n"
     ]
    }
   ],
   "source": [
    "#ques3\n",
    "#every 4th number using list slicing \n",
    "a=[1,2,3,4,5,6,7,8,9,10,11,12,13,14,15,16]\n",
    "print(a[0:16:4])"
   ]
  },
  {
   "cell_type": "code",
   "execution_count": null,
   "metadata": {
    "collapsed": true
   },
   "outputs": [],
   "source": []
  }
 ],
 "metadata": {
  "anaconda-cloud": {},
  "kernelspec": {
   "display_name": "Python [conda root]",
   "language": "python",
   "name": "conda-root-py"
  },
  "language_info": {
   "codemirror_mode": {
    "name": "ipython",
    "version": 3
   },
   "file_extension": ".py",
   "mimetype": "text/x-python",
   "name": "python",
   "nbconvert_exporter": "python",
   "pygments_lexer": "ipython3",
   "version": "3.5.2"
  }
 },
 "nbformat": 4,
 "nbformat_minor": 1
}
